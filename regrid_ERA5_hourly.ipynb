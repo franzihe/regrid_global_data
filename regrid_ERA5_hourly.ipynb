{
 "cells": [
  {
   "cell_type": "markdown",
   "metadata": {},
   "source": [
    "## Regrid xarray data\n",
    "https://xesmf.readthedocs.io/en/latest/ \n",
    "\n",
    "Regrid xarray Dataset with multiple variables for ERA5 data to NorESM2-MM grid."
   ]
  },
  {
   "cell_type": "code",
   "execution_count": null,
   "metadata": {},
   "outputs": [],
   "source": [
    "# supress warnings\n",
    "import warnings\n",
    "warnings.filterwarnings('ignore') # don't output warnings\n",
    "\n",
    "from imports import (np, xr, fct, glob, )\n",
    "\n",
    "# reload imports\n",
    "%load_ext autoreload\n",
    "%autoreload 2"
   ]
  },
  {
   "cell_type": "code",
   "execution_count": null,
   "metadata": {
    "lines_to_end_of_cell_marker": 2,
    "lines_to_next_cell": 0
   },
   "outputs": [],
   "source": [
    "### Define data location for ERA5 and CMIP6\n",
    "\n",
    "era_path     = '/home/franzihe/nird_NS9600K/data/ERA5/3_hourly/2008/'\n",
    "\n",
    "### Data location for file of reference grid\n",
    "cmip_path   = '/home/franzihe/nird_NS9600K/shofer/Rob/INP_nimax_fix/'\n",
    "variable = {\n",
    "#            '2t':   '2m_temperature', \n",
    " #           'msr'  :'mean_snowfall_rate',\n",
    "            'sf'   :'snowfall',                         # ERA5 single level variables\n",
    "  #          't'   :'temperature',\n",
    "   #         'clwc':'specific_cloud_liquid_water_content',\n",
    "    #        'clic':'specific_cloud_ice_water_content',\n",
    "     #       'cswc':'specific_snow_water_content'        # ERA5 pressure level variables\n",
    "           }\n",
    "\n",
    "\n"
   ]
  },
  {
   "cell_type": "code",
   "execution_count": null,
   "metadata": {},
   "outputs": [],
   "source": [
    "year = 2008"
   ]
  },
  {
   "cell_type": "code",
   "execution_count": null,
   "metadata": {
    "lines_to_end_of_cell_marker": 2,
    "lines_to_next_cell": 0
   },
   "outputs": [],
   "source": [
    "### Read in the regridder data (NorESM)\n",
    "cmip_file = sorted(glob('{}INP_fixed_nimax.cam.h2.2008*.nc'.format(cmip_path)))[0]\n",
    "ds_out = xr.open_dataset(cmip_file)\n",
    "\n",
    "for keys, var in variable.items(): \n",
    "    for month in np.arange(1,13):\n",
    "        if month == 1 or month == 3 or month == 5 or month == 7 or month == 8 or month == 10 or month == 12:\n",
    "            t = np.arange(1, 32)\n",
    "        elif month == 2:\n",
    "            t = np.arange(1, 30)\n",
    "        elif month == 4 or month == 6 or month == 9 or month == 11:\n",
    "            t = np.arange(1,31)\n",
    "\n",
    "        if int(month) < 10:\n",
    "            month = '0{}'.format(int(month))\n",
    "        for day in t:\n",
    "            if int(day) < 10:\n",
    "                day = '0{}'.format(int(day))\n",
    "                \n",
    "            Date = '{}-{}-{}'.format(year, month, day)\n",
    "            \n",
    "\n",
    "            ### Input data from ERA5 with a resolution of 0.25x0.25 deg\n",
    "            era_file = glob('{}{}_3hourly_ERA5_2008{}.nc'.format(era_path, keys, month))[0]\n",
    "            ds_in = xr.open_dataset(era_file, ).sel(time = slice('{}'.format(Date)))\n",
    "\n",
    "            ### Regrid and save to file to nc_out\n",
    "            fct.createFolder('{}/NorESMgrid/'.format(era_file[:51]))\n",
    "            nc_out = '{}/NorESMgrid/{}_3hourly_ERA5_{}{}{}.nc'.format(era_file[:51], keys, year, month, day)\n",
    "            fct.regrid_save_data(ds_in, ds_out, nc_out,)"
   ]
  },
  {
   "cell_type": "code",
   "execution_count": null,
   "metadata": {},
   "outputs": [],
   "source": []
  }
 ],
 "metadata": {
  "jupytext": {
   "formats": "ipynb,py:light"
  },
  "kernelspec": {
   "display_name": "Python 3",
   "language": "python",
   "name": "python3"
  },
  "language_info": {
   "codemirror_mode": {
    "name": "ipython",
    "version": 3
   },
   "file_extension": ".py",
   "mimetype": "text/x-python",
   "name": "python",
   "nbconvert_exporter": "python",
   "pygments_lexer": "ipython3",
   "version": "3.7.8"
  }
 },
 "nbformat": 4,
 "nbformat_minor": 4
}
