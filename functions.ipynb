{
 "cells": [
  {
   "cell_type": "code",
   "execution_count": null,
   "metadata": {},
   "outputs": [],
   "source": [
    "from imports import (xr, glob, os, xe)"
   ]
  },
  {
   "cell_type": "code",
   "execution_count": null,
   "metadata": {},
   "outputs": [],
   "source": [
    "def createFolder(directory):\n",
    "    try:\n",
    "        if not os.path.exists(directory):\n",
    "            os.makedirs(directory)\n",
    "    except OSError:\n",
    "        print ('Error: Creating directory. ' +  directory)"
   ]
  },
  {
   "cell_type": "code",
   "execution_count": null,
   "metadata": {},
   "outputs": [],
   "source": [
    "def rename_coords_lon_lat(ds):\n",
    "    for k in ds.indexes.keys():\n",
    "        if k == 'longitude':\n",
    "            ds = ds.rename({'longitude':'lon'})\n",
    "        if k == 'latitude':\n",
    "            ds = ds.rename({'latitude':'lat'})\n",
    "            \n",
    "    return(ds)"
   ]
  },
  {
   "cell_type": "code",
   "execution_count": null,
   "metadata": {},
   "outputs": [],
   "source": [
    "def regrid_save_data(ds_in, ds_out, nc_out,):\n",
    "    \n",
    "    ds_in = rename_coords_lon_lat(ds_in)\n",
    "    \n",
    "    ### Regridder data\n",
    "    regridder = xe.Regridder(ds_in, ds_out, 'bilinear')\n",
    "    regridder.clean_weight_file()\n",
    "    regridder\n",
    "\n",
    "    ### Apply regridder to data\n",
    "    # the entire dataset can be processed at once\n",
    "    ds_in_regrid = regridder(ds_in)\n",
    "\n",
    "    # verify that the result is the same as regridding each variable one-by-one\n",
    "    for k in ds_in.data_vars:\n",
    "        print(k, ds_in_regrid[k].equals(regridder(ds_in[k])))\n",
    "\n",
    "        if ds_in_regrid[k].equals(regridder(ds_in[k])) == True:\n",
    "            ### Assign attributes from the original file to the regridded data\n",
    "          #  ds_in_regrid.attrs['Conventions'] = ds_in.attrs['Conventions']\n",
    "           # ds_in_regrid.attrs['history']     = ds_in.attrs['history']\n",
    "            ds_in_regrid.attrs = ds_in.attrs\n",
    "            \n",
    "            ds_in_regrid[k].attrs['units']         = ds_in[k].attrs['units']\n",
    "            ds_in_regrid[k].attrs['long_name']     = ds_in[k].attrs['long_name']\n",
    "            try:\n",
    "                ds_in_regrid[k].attrs['standard_name'] = ds_in[k].attrs['standard_name']\n",
    "                ds_in_regrid[k].attrs['comment']       = ds_in[k].attrs['comment']\n",
    "                ds_in_regrid[k].attrs['original_name'] = ds_in[k].attrs['original_name']\n",
    "                ds_in_regrid[k].attrs['cell_methods']  = ds_in[k].attrs['cell_methods']\n",
    "                ds_in_regrid[k].attrs['cell_measures'] = ds_in[k].attrs['cell_measures']\n",
    "            except KeyError:\n",
    "                continue\n",
    "    \n",
    "    ### Save to netcdf file\n",
    "    \n",
    "    ds_in_regrid.to_netcdf(nc_out)\n",
    "    ds_in_regrid.close(); ds_in.close(); ds_out.close()\n",
    "    print('file written: .{}'.format(nc_out[29:]))"
   ]
  },
  {
   "cell_type": "code",
   "execution_count": null,
   "metadata": {},
   "outputs": [],
   "source": []
  }
 ],
 "metadata": {
  "jupytext": {
   "formats": "ipynb,py:light"
  },
  "kernelspec": {
   "display_name": "Python 3",
   "language": "python",
   "name": "python3"
  },
  "language_info": {
   "codemirror_mode": {
    "name": "ipython",
    "version": 3
   },
   "file_extension": ".py",
   "mimetype": "text/x-python",
   "name": "python",
   "nbconvert_exporter": "python",
   "pygments_lexer": "ipython3",
   "version": "3.7.8"
  }
 },
 "nbformat": 4,
 "nbformat_minor": 4
}
