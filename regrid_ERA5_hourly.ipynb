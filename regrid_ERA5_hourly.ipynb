{
 "cells": [
  {
   "cell_type": "markdown",
   "metadata": {},
   "source": [
    "## Regrid xarray data\n",
    "https://xesmf.readthedocs.io/en/latest/ \n",
    "\n",
    "Regrid xarray Dataset with multiple variables for ERA5 data to NorESM2-MM grid."
   ]
  },
  {
   "cell_type": "code",
   "execution_count": null,
   "metadata": {},
   "outputs": [],
   "source": [
    "# supress warnings\n",
    "import warnings\n",
    "warnings.filterwarnings('ignore') # don't output warnings\n",
    "\n",
    "from imports import (np, xr, fct, glob, )\n",
    "\n",
    "# reload imports\n",
    "%load_ext autoreload\n",
    "%autoreload 2"
   ]
  },
  {
   "cell_type": "code",
   "execution_count": null,
   "metadata": {},
   "outputs": [],
   "source": [
    "available_month = {\n",
    "                   '01':['01'],\n",
    "                   '02':['02'],\n",
    "                   '03':['03'],\n",
    "                   '04':['04'], \n",
    "                   '05':['05'], \n",
    "                   '06':['06'], \n",
    "                   '07':['07'],\n",
    "                   '08':['08'], \n",
    "                   '09':['09'], \n",
    "                   '10':['10'], \n",
    "                   '11':['11'], \n",
    "                   '12':['12']\n",
    "                  }"
   ]
  },
  {
   "cell_type": "code",
   "execution_count": null,
   "metadata": {},
   "outputs": [],
   "source": [
    "available_years = {\n",
    "                   \"07\": ['2007',],\n",
    "                   \"08\": ['2008',],\n",
    "                   \"09\": ['2009',],\n",
    "                   \"10\": ['2010',],\n",
    "                    }"
   ]
  },
  {
   "cell_type": "code",
   "execution_count": null,
   "metadata": {
    "lines_to_end_of_cell_marker": 2,
    "lines_to_next_cell": 0
   },
   "outputs": [],
   "source": [
    "\n",
    "### Data location for file of reference grid\n",
    "#cmip_path   = '/home/franzihe/Documents/Python/regrid_global_data/'\n",
    "cmip_path   = './'#../../regrid_global_data/'\n",
    "\n",
    "variable = {\n",
    "            'tp' :'total_precipitation',\n",
    "            'sf' :'snowfall',                          # ERA5 single level variables\n",
    "            't'   :'temperature',\n",
    "            'crwc':'specific_rain_water_content',\n",
    "            'cswc':'specific_snow_water_content',\n",
    "            'clwc':'specific_cloud_liquid_water_content',\n",
    "            'ciwc':'specific_cloud_ice_water_content'      # ERA5 pressure level variables\n",
    "           }"
   ]
  },
  {
   "cell_type": "code",
   "execution_count": null,
   "metadata": {},
   "outputs": [],
   "source": [
    "### Read in the regridder data (NorESM)\n",
    "cmip_file = sorted(glob('{}NorESM_2.5deg.nc'.format(cmip_path)))[0]\n",
    "ds_out = xr.open_dataset(cmip_file)\n",
    "\n",
    "counter = 0\n",
    "for keys, var in variable.items(): \n",
    "    for years in (available_years):\n",
    "        ### Define data location for ERA5 and CMIP6\n",
    "        era_path     = '../../../data/ERA5/3_hourly/{}'.format(available_years[years][0])\n",
    "#        era_path     = '/home/franzihe/nird_NS9600K/data/ERA5/3_hourly/{}'.format(available_years[years][0])\n",
    "\n",
    "        for months in available_month:\n",
    "            nc_out = 'NorESMgrid/{}_3hourly_ERA5_{}{}.nc'.format(keys, available_years[years][0], available_month[months][0])\n",
    "            files = glob('{path}/{nc_out}'.format(path = era_path, nc_out = nc_out))\n",
    "\n",
    "            \n",
    "            if '{path}/{nc_out}'.format(path = era_path, nc_out = nc_out) in files:\n",
    "                print('{path}/{nc_out} regridded'.format(path = era_path, nc_out = nc_out))\n",
    "                counter += 1\n",
    "                print(\"Have regridded in total : \" + str(counter) + \" files\")\n",
    "\n",
    "            else:\n",
    "                ### Input data from ERA5 with a resolution of 0.25x0.25 deg\n",
    "                era_file = sorted(glob('{}/{}_3hourly_ERA5_{}{}_*.nc'.format(era_path, keys, available_years[years][0], available_month[months][0])))\n",
    "                if len(era_file) != 2:\n",
    "                    print('no files found: {}/{}_3hourly_ERA5_{}{}_*.nc'.format(era_path, keys, available_years[years][0], available_month[months][0]))\n",
    "                    continue\n",
    "\n",
    "                else:\n",
    "                    ds_in_S = xr.open_dataset(era_file[0])\n",
    "                    ds_in_N = xr.open_dataset(era_file[1])\n",
    "                    \n",
    "                    try:\n",
    "                        ds_in_S.indexes['level']\n",
    "                        ### assign variable name to ds_out\n",
    "                        ds_out = ds_out.assign({\n",
    "                            keys: xr.DataArray(\n",
    "                                data   = np.full(shape = (ds_in_S.level.shape[0], ds_in_S.time.shape[0], ds_out.lat.shape[0], ds_out.lon.shape[0]) , \n",
    "                                                 fill_value = np.nan),   # enter data here\n",
    "                                dims   = ['level', 'time', 'lat', 'lon'],\n",
    "                                coords = {'level': ds_in_S.level, 'time': ds_in_S.time, 'lat': ds_out.lat, 'lon': ds_out.lon},\n",
    "                            ),},)\n",
    "\n",
    "                        ### regridding in each level\n",
    "                        ds_in_regrid_S = fct.regrid_through_level(ds_in_S, ds_out.sel(lat = slice(-90, -30)))\n",
    "                        ds_in_regrid_N = fct.regrid_through_level(ds_in_N, ds_out.sel(lat = slice(30, 90)))\n",
    "                    \n",
    "                    except KeyError:\n",
    "                        ### assign variable name to ds_out\n",
    "                        ds_out = ds_out.assign({\n",
    "                            keys: xr.DataArray(\n",
    "                                data   = np.full(shape = ( ds_in_S.time.shape[0], ds_out.lat.shape[0], ds_out.lon.shape[0]) , \n",
    "                                                 fill_value = np.nan),   # enter data here\n",
    "                                dims   = ['time', 'lat', 'lon'],\n",
    "                                coords = {'time': ds_in_S.time, 'lat': ds_out.lat, 'lon': ds_out.lon},\n",
    "                            ),},)\n",
    "                        ### Regridding surface variables\n",
    "                        ds_in_regrid_S = fct.regrid_data(ds_in_S, ds_out.sel(lat = slice(-90, -30)))\n",
    "                        ds_in_regrid_N = fct.regrid_data(ds_in_N, ds_out.sel(lat = slice(30, 90)))\n",
    "\n",
    "\n",
    "\n",
    "                    ### concat all datasets \n",
    "                    ds = xr.concat([ds_in_regrid_S, ds_out.sel(lat = slice(-30,30)), ds_in_regrid_N], dim = 'lat')\n",
    "                    ds.to_netcdf('{path}/{nc_out}'.format(path = era_path, nc_out = nc_out))\n",
    "\n",
    "                    ds_in_S.close(); ds_in_N.close(); ds_in_regrid_S.close(), ds_in_regrid_N.close();\n",
    "                    print('file written: {path}/{nc_out}'.format(path = era_path, nc_out = nc_out))"
   ]
  },
  {
   "cell_type": "code",
   "execution_count": null,
   "metadata": {},
   "outputs": [],
   "source": []
  },
  {
   "cell_type": "code",
   "execution_count": null,
   "metadata": {},
   "outputs": [],
   "source": []
  },
  {
   "cell_type": "code",
   "execution_count": null,
   "metadata": {},
   "outputs": [],
   "source": []
  },
  {
   "cell_type": "code",
   "execution_count": null,
   "metadata": {},
   "outputs": [],
   "source": []
  },
  {
   "cell_type": "code",
   "execution_count": null,
   "metadata": {},
   "outputs": [],
   "source": []
  },
  {
   "cell_type": "code",
   "execution_count": null,
   "metadata": {},
   "outputs": [],
   "source": []
  },
  {
   "cell_type": "raw",
   "metadata": {
    "lines_to_end_of_cell_marker": 2,
    "lines_to_next_cell": 0
   },
   "source": [
    "### Read in the regridder data (NorESM)\n",
    "cmip_file = sorted(glob('{}NorESM_2.5deg.nc'.format(cmip_path)))[0]\n",
    "ds_out = xr.open_dataset(cmip_file)\n",
    "for keys, var in variable.items(): \n",
    "    for years in (available_years):\n",
    "        ### Define data location for ERA5 and CMIP6\n",
    "        era_path     = '/home/franzihe/nird_NS9600K/data/ERA5/3_hourly/{}/'.format(available_years[years][0])\n",
    "\n",
    "        for months in available_month:\n",
    "\n",
    "            \n",
    "            ### Input data from ERA5 with a resolution of 0.25x0.25 deg\n",
    "            era_file = sorted(glob('{}{}_3hourly_ERA5_{}{}_*.nc'.format(era_path, keys, available_years[years][0], available_month[months][0])))\n",
    "            if len(era_file) != 2:\n",
    "                print('no files found: {}{}_3hourly_ERA5_{}{}_*.nc'.format(era_path, keys, available_years[years][0], available_month[months][0]))\n",
    "                continue\n",
    "            else:\n",
    "                ds_in = xr.merge([xr.open_dataset(era_file[0]), xr.open_dataset(era_file[1])], )\n",
    "\n",
    "                ### Regrid            \n",
    "                ds_in_regrid = fct.regrid_data(ds_in, ds_out, )\n",
    "    \n",
    "                ### Save to netcdf file nc_out\n",
    "                nc_out = '{}/{}/NorESMgrid/{}_3hourly_EAR5_{}{}.nc'.format(era_file[0][:46], available_years[years][0], keys, available_years[years][0], available_month[months][0])\n",
    "                fct.createFolder(nc_out[:-25])\n",
    "                ds_in_regrid.to_netcdf(nc_out)\n",
    "                ds_in_regrid.close(); ds_in.close(); \n",
    "                print('file written: .{}'.format(nc_out[-25:]))"
   ]
  },
  {
   "cell_type": "code",
   "execution_count": null,
   "metadata": {
    "lines_to_next_cell": 2
   },
   "outputs": [],
   "source": []
  }
 ],
 "metadata": {
  "jupytext": {
   "formats": "ipynb,py:light"
  },
  "kernelspec": {
   "display_name": "Python 3",
   "language": "python",
   "name": "python3"
  },
  "language_info": {
   "codemirror_mode": {
    "name": "ipython",
    "version": 3
   },
   "file_extension": ".py",
   "mimetype": "text/x-python",
   "name": "python",
   "nbconvert_exporter": "python",
   "pygments_lexer": "ipython3",
   "version": "3.7.8"
  }
 },
 "nbformat": 4,
 "nbformat_minor": 4
}
