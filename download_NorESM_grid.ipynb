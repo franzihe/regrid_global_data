{
 "cells": [
  {
   "cell_type": "markdown",
   "id": "organizational-doctrine",
   "metadata": {},
   "source": [
    "## Download NorESM reference grid\n",
    "\n",
    "for INP special issue: nird/projects/NS9600K/shofer/Rob/INP_base_new/atm/hist in h2 file\n"
   ]
  },
  {
   "cell_type": "code",
   "execution_count": 1,
   "id": "upper-peoples",
   "metadata": {},
   "outputs": [],
   "source": [
    "# supress warnings\n",
    "import warnings\n",
    "warnings.filterwarnings('ignore') # don't output warnings\n",
    "\n",
    "from imports import (xr)\n",
    "\n",
    "# reload imports\n",
    "%load_ext autoreload\n",
    "%autoreload 2"
   ]
  },
  {
   "cell_type": "code",
   "execution_count": 2,
   "id": "champion-enhancement",
   "metadata": {},
   "outputs": [],
   "source": [
    "noresm_file = '/home/franzihe/nird_NS9600K/shofer/Rob/INP_base_new/atm/hist/INP_base.cam.h2.2008-10-01-00000.nc'\n",
    "out_file = './NorESM_2.5deg.nc'"
   ]
  },
  {
   "cell_type": "code",
   "execution_count": 3,
   "id": "sonic-cookbook",
   "metadata": {},
   "outputs": [],
   "source": [
    "fnx = xr.open_dataset(noresm_file)"
   ]
  },
  {
   "cell_type": "code",
   "execution_count": 4,
   "id": "thirty-sussex",
   "metadata": {},
   "outputs": [],
   "source": [
    "# create dataset\n",
    "ds = xr.Dataset({\n",
    "    'lat': xr.DataArray(\n",
    "                data   = fnx.lat.values,   # enter data here\n",
    "                dims   = ['lat', ],\n",
    "                ),\n",
    "    'lon': xr.DataArray(\n",
    "                data   = fnx.lon.values,   # enter data here\n",
    "                dims   = ['lon', ],\n",
    "                 ),\n",
    "            },\n",
    "        attrs = {'NorESM grid': 'taken from NorESM file'}\n",
    "    )"
   ]
  },
  {
   "cell_type": "code",
   "execution_count": 5,
   "id": "collectible-wages",
   "metadata": {},
   "outputs": [],
   "source": [
    "ds.to_netcdf(path=out_file, mode='w', format=\"NETCDF4\", )"
   ]
  },
  {
   "cell_type": "code",
   "execution_count": null,
   "id": "arctic-healthcare",
   "metadata": {},
   "outputs": [],
   "source": []
  }
 ],
 "metadata": {
  "jupytext": {
   "formats": "ipynb,py:light"
  },
  "kernelspec": {
   "display_name": "Python 3",
   "language": "python",
   "name": "python3"
  },
  "language_info": {
   "codemirror_mode": {
    "name": "ipython",
    "version": 3
   },
   "file_extension": ".py",
   "mimetype": "text/x-python",
   "name": "python",
   "nbconvert_exporter": "python",
   "pygments_lexer": "ipython3",
   "version": "3.7.8"
  }
 },
 "nbformat": 4,
 "nbformat_minor": 5
}
